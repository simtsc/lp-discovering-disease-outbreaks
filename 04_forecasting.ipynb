{
 "cells": [
  {
   "cell_type": "markdown",
   "metadata": {},
   "source": [
    "# Time Series Forecasting"
   ]
  },
  {
   "cell_type": "code",
   "execution_count": 1,
   "metadata": {},
   "outputs": [],
   "source": [
    "from datetime import timedelta\n",
    "from pathlib import Path\n",
    "\n",
    "import matplotlib.pyplot as plt\n",
    "import ipywidgets as widgets\n",
    "import numpy as np\n",
    "import pandas as pd\n",
    "from pandas.plotting import autocorrelation_plot\n",
    "from tqdm.notebook import tqdm\n",
    "\n",
    "from statsmodels.tsa.arima.model import ARIMA\n",
    "\n",
    "plt.rcParams[\"figure.figsize\"] = (20, 10)"
   ]
  },
  {
   "cell_type": "markdown",
   "metadata": {},
   "source": [
    "## Load all data\n",
    "\n",
    "Here we load all datasets into a dictionary which maps the filename to the corresponding `pandas.DataFrame`."
   ]
  },
  {
   "cell_type": "code",
   "execution_count": 2,
   "metadata": {},
   "outputs": [
    {
     "data": {
      "application/vnd.jupyter.widget-view+json": {
       "model_id": "2fe85253bbef43d9a35bb09eedac18b3",
       "version_major": 2,
       "version_minor": 0
      },
      "text/plain": [
       "|          | 0/? [00:00<?, ?it/s]"
      ]
     },
     "metadata": {},
     "output_type": "display_data"
    }
   ],
   "source": [
    "datasets = {f.name : pd.read_csv(f) for f in tqdm(Path('.').glob('*.csv'))}"
   ]
  },
  {
   "cell_type": "markdown",
   "metadata": {},
   "source": [
    "## Clean the dataframes"
   ]
  },
  {
   "cell_type": "code",
   "execution_count": 3,
   "metadata": {},
   "outputs": [
    {
     "data": {
      "text/html": [
       "<div>\n",
       "<style scoped>\n",
       "    .dataframe tbody tr th:only-of-type {\n",
       "        vertical-align: middle;\n",
       "    }\n",
       "\n",
       "    .dataframe tbody tr th {\n",
       "        vertical-align: top;\n",
       "    }\n",
       "\n",
       "    .dataframe thead th {\n",
       "        text-align: right;\n",
       "    }\n",
       "</style>\n",
       "<table border=\"1\" class=\"dataframe\">\n",
       "  <thead>\n",
       "    <tr style=\"text-align: right;\">\n",
       "      <th></th>\n",
       "      <th>Province/State</th>\n",
       "      <th>Country/Region</th>\n",
       "      <th>Lat</th>\n",
       "      <th>Long</th>\n",
       "      <th>1/22/20</th>\n",
       "      <th>1/23/20</th>\n",
       "      <th>1/24/20</th>\n",
       "      <th>1/25/20</th>\n",
       "      <th>1/26/20</th>\n",
       "      <th>1/27/20</th>\n",
       "      <th>...</th>\n",
       "      <th>12/27/20</th>\n",
       "      <th>12/28/20</th>\n",
       "      <th>12/29/20</th>\n",
       "      <th>12/30/20</th>\n",
       "      <th>12/31/20</th>\n",
       "      <th>1/1/21</th>\n",
       "      <th>1/2/21</th>\n",
       "      <th>1/3/21</th>\n",
       "      <th>1/4/21</th>\n",
       "      <th>1/5/21</th>\n",
       "    </tr>\n",
       "  </thead>\n",
       "  <tbody>\n",
       "    <tr>\n",
       "      <th>0</th>\n",
       "      <td>NaN</td>\n",
       "      <td>Afghanistan</td>\n",
       "      <td>33.93911</td>\n",
       "      <td>67.709953</td>\n",
       "      <td>0</td>\n",
       "      <td>0</td>\n",
       "      <td>0</td>\n",
       "      <td>0</td>\n",
       "      <td>0</td>\n",
       "      <td>0</td>\n",
       "      <td>...</td>\n",
       "      <td>51039</td>\n",
       "      <td>51280</td>\n",
       "      <td>51350</td>\n",
       "      <td>51405</td>\n",
       "      <td>51526</td>\n",
       "      <td>51526</td>\n",
       "      <td>51526</td>\n",
       "      <td>51526</td>\n",
       "      <td>53011</td>\n",
       "      <td>53105</td>\n",
       "    </tr>\n",
       "    <tr>\n",
       "      <th>1</th>\n",
       "      <td>NaN</td>\n",
       "      <td>Albania</td>\n",
       "      <td>41.15330</td>\n",
       "      <td>20.168300</td>\n",
       "      <td>0</td>\n",
       "      <td>0</td>\n",
       "      <td>0</td>\n",
       "      <td>0</td>\n",
       "      <td>0</td>\n",
       "      <td>0</td>\n",
       "      <td>...</td>\n",
       "      <td>56254</td>\n",
       "      <td>56572</td>\n",
       "      <td>57146</td>\n",
       "      <td>57727</td>\n",
       "      <td>58316</td>\n",
       "      <td>58316</td>\n",
       "      <td>58991</td>\n",
       "      <td>59438</td>\n",
       "      <td>59623</td>\n",
       "      <td>60283</td>\n",
       "    </tr>\n",
       "    <tr>\n",
       "      <th>2</th>\n",
       "      <td>NaN</td>\n",
       "      <td>Algeria</td>\n",
       "      <td>28.03390</td>\n",
       "      <td>1.659600</td>\n",
       "      <td>0</td>\n",
       "      <td>0</td>\n",
       "      <td>0</td>\n",
       "      <td>0</td>\n",
       "      <td>0</td>\n",
       "      <td>0</td>\n",
       "      <td>...</td>\n",
       "      <td>98249</td>\n",
       "      <td>98631</td>\n",
       "      <td>98988</td>\n",
       "      <td>99311</td>\n",
       "      <td>99610</td>\n",
       "      <td>99897</td>\n",
       "      <td>100159</td>\n",
       "      <td>100408</td>\n",
       "      <td>100645</td>\n",
       "      <td>100873</td>\n",
       "    </tr>\n",
       "    <tr>\n",
       "      <th>3</th>\n",
       "      <td>NaN</td>\n",
       "      <td>Andorra</td>\n",
       "      <td>42.50630</td>\n",
       "      <td>1.521800</td>\n",
       "      <td>0</td>\n",
       "      <td>0</td>\n",
       "      <td>0</td>\n",
       "      <td>0</td>\n",
       "      <td>0</td>\n",
       "      <td>0</td>\n",
       "      <td>...</td>\n",
       "      <td>7821</td>\n",
       "      <td>7875</td>\n",
       "      <td>7919</td>\n",
       "      <td>7983</td>\n",
       "      <td>8049</td>\n",
       "      <td>8117</td>\n",
       "      <td>8166</td>\n",
       "      <td>8192</td>\n",
       "      <td>8249</td>\n",
       "      <td>8308</td>\n",
       "    </tr>\n",
       "    <tr>\n",
       "      <th>4</th>\n",
       "      <td>NaN</td>\n",
       "      <td>Angola</td>\n",
       "      <td>-11.20270</td>\n",
       "      <td>17.873900</td>\n",
       "      <td>0</td>\n",
       "      <td>0</td>\n",
       "      <td>0</td>\n",
       "      <td>0</td>\n",
       "      <td>0</td>\n",
       "      <td>0</td>\n",
       "      <td>...</td>\n",
       "      <td>17240</td>\n",
       "      <td>17296</td>\n",
       "      <td>17371</td>\n",
       "      <td>17433</td>\n",
       "      <td>17553</td>\n",
       "      <td>17568</td>\n",
       "      <td>17608</td>\n",
       "      <td>17642</td>\n",
       "      <td>17684</td>\n",
       "      <td>17756</td>\n",
       "    </tr>\n",
       "  </tbody>\n",
       "</table>\n",
       "<p>5 rows × 354 columns</p>\n",
       "</div>"
      ],
      "text/plain": [
       "  Province/State Country/Region       Lat       Long  1/22/20  1/23/20  \\\n",
       "0            NaN    Afghanistan  33.93911  67.709953        0        0   \n",
       "1            NaN        Albania  41.15330  20.168300        0        0   \n",
       "2            NaN        Algeria  28.03390   1.659600        0        0   \n",
       "3            NaN        Andorra  42.50630   1.521800        0        0   \n",
       "4            NaN         Angola -11.20270  17.873900        0        0   \n",
       "\n",
       "   1/24/20  1/25/20  1/26/20  1/27/20  ...  12/27/20  12/28/20  12/29/20  \\\n",
       "0        0        0        0        0  ...     51039     51280     51350   \n",
       "1        0        0        0        0  ...     56254     56572     57146   \n",
       "2        0        0        0        0  ...     98249     98631     98988   \n",
       "3        0        0        0        0  ...      7821      7875      7919   \n",
       "4        0        0        0        0  ...     17240     17296     17371   \n",
       "\n",
       "   12/30/20  12/31/20  1/1/21  1/2/21  1/3/21  1/4/21  1/5/21  \n",
       "0     51405     51526   51526   51526   51526   53011   53105  \n",
       "1     57727     58316   58316   58991   59438   59623   60283  \n",
       "2     99311     99610   99897  100159  100408  100645  100873  \n",
       "3      7983      8049    8117    8166    8192    8249    8308  \n",
       "4     17433     17553   17568   17608   17642   17684   17756  \n",
       "\n",
       "[5 rows x 354 columns]"
      ]
     },
     "execution_count": 3,
     "metadata": {},
     "output_type": "execute_result"
    }
   ],
   "source": [
    "confirmed_df = datasets['time_series_covid19_confirmed_global.csv']\n",
    "confirmed_df.head()"
   ]
  },
  {
   "cell_type": "markdown",
   "metadata": {},
   "source": [
    "### Drop unused columns"
   ]
  },
  {
   "cell_type": "code",
   "execution_count": 4,
   "metadata": {},
   "outputs": [
    {
     "data": {
      "text/html": [
       "<div>\n",
       "<style scoped>\n",
       "    .dataframe tbody tr th:only-of-type {\n",
       "        vertical-align: middle;\n",
       "    }\n",
       "\n",
       "    .dataframe tbody tr th {\n",
       "        vertical-align: top;\n",
       "    }\n",
       "\n",
       "    .dataframe thead th {\n",
       "        text-align: right;\n",
       "    }\n",
       "</style>\n",
       "<table border=\"1\" class=\"dataframe\">\n",
       "  <thead>\n",
       "    <tr style=\"text-align: right;\">\n",
       "      <th></th>\n",
       "      <th>1/22/20</th>\n",
       "      <th>1/23/20</th>\n",
       "      <th>1/24/20</th>\n",
       "      <th>1/25/20</th>\n",
       "      <th>1/26/20</th>\n",
       "      <th>1/27/20</th>\n",
       "      <th>1/28/20</th>\n",
       "      <th>1/29/20</th>\n",
       "      <th>1/30/20</th>\n",
       "      <th>1/31/20</th>\n",
       "      <th>...</th>\n",
       "      <th>12/27/20</th>\n",
       "      <th>12/28/20</th>\n",
       "      <th>12/29/20</th>\n",
       "      <th>12/30/20</th>\n",
       "      <th>12/31/20</th>\n",
       "      <th>1/1/21</th>\n",
       "      <th>1/2/21</th>\n",
       "      <th>1/3/21</th>\n",
       "      <th>1/4/21</th>\n",
       "      <th>1/5/21</th>\n",
       "    </tr>\n",
       "    <tr>\n",
       "      <th>Country/Region</th>\n",
       "      <th></th>\n",
       "      <th></th>\n",
       "      <th></th>\n",
       "      <th></th>\n",
       "      <th></th>\n",
       "      <th></th>\n",
       "      <th></th>\n",
       "      <th></th>\n",
       "      <th></th>\n",
       "      <th></th>\n",
       "      <th></th>\n",
       "      <th></th>\n",
       "      <th></th>\n",
       "      <th></th>\n",
       "      <th></th>\n",
       "      <th></th>\n",
       "      <th></th>\n",
       "      <th></th>\n",
       "      <th></th>\n",
       "      <th></th>\n",
       "      <th></th>\n",
       "    </tr>\n",
       "  </thead>\n",
       "  <tbody>\n",
       "    <tr>\n",
       "      <th>Afghanistan</th>\n",
       "      <td>0</td>\n",
       "      <td>0</td>\n",
       "      <td>0</td>\n",
       "      <td>0</td>\n",
       "      <td>0</td>\n",
       "      <td>0</td>\n",
       "      <td>0</td>\n",
       "      <td>0</td>\n",
       "      <td>0</td>\n",
       "      <td>0</td>\n",
       "      <td>...</td>\n",
       "      <td>51039</td>\n",
       "      <td>51280</td>\n",
       "      <td>51350</td>\n",
       "      <td>51405</td>\n",
       "      <td>51526</td>\n",
       "      <td>51526</td>\n",
       "      <td>51526</td>\n",
       "      <td>51526</td>\n",
       "      <td>53011</td>\n",
       "      <td>53105</td>\n",
       "    </tr>\n",
       "    <tr>\n",
       "      <th>Albania</th>\n",
       "      <td>0</td>\n",
       "      <td>0</td>\n",
       "      <td>0</td>\n",
       "      <td>0</td>\n",
       "      <td>0</td>\n",
       "      <td>0</td>\n",
       "      <td>0</td>\n",
       "      <td>0</td>\n",
       "      <td>0</td>\n",
       "      <td>0</td>\n",
       "      <td>...</td>\n",
       "      <td>56254</td>\n",
       "      <td>56572</td>\n",
       "      <td>57146</td>\n",
       "      <td>57727</td>\n",
       "      <td>58316</td>\n",
       "      <td>58316</td>\n",
       "      <td>58991</td>\n",
       "      <td>59438</td>\n",
       "      <td>59623</td>\n",
       "      <td>60283</td>\n",
       "    </tr>\n",
       "    <tr>\n",
       "      <th>Algeria</th>\n",
       "      <td>0</td>\n",
       "      <td>0</td>\n",
       "      <td>0</td>\n",
       "      <td>0</td>\n",
       "      <td>0</td>\n",
       "      <td>0</td>\n",
       "      <td>0</td>\n",
       "      <td>0</td>\n",
       "      <td>0</td>\n",
       "      <td>0</td>\n",
       "      <td>...</td>\n",
       "      <td>98249</td>\n",
       "      <td>98631</td>\n",
       "      <td>98988</td>\n",
       "      <td>99311</td>\n",
       "      <td>99610</td>\n",
       "      <td>99897</td>\n",
       "      <td>100159</td>\n",
       "      <td>100408</td>\n",
       "      <td>100645</td>\n",
       "      <td>100873</td>\n",
       "    </tr>\n",
       "    <tr>\n",
       "      <th>Andorra</th>\n",
       "      <td>0</td>\n",
       "      <td>0</td>\n",
       "      <td>0</td>\n",
       "      <td>0</td>\n",
       "      <td>0</td>\n",
       "      <td>0</td>\n",
       "      <td>0</td>\n",
       "      <td>0</td>\n",
       "      <td>0</td>\n",
       "      <td>0</td>\n",
       "      <td>...</td>\n",
       "      <td>7821</td>\n",
       "      <td>7875</td>\n",
       "      <td>7919</td>\n",
       "      <td>7983</td>\n",
       "      <td>8049</td>\n",
       "      <td>8117</td>\n",
       "      <td>8166</td>\n",
       "      <td>8192</td>\n",
       "      <td>8249</td>\n",
       "      <td>8308</td>\n",
       "    </tr>\n",
       "    <tr>\n",
       "      <th>Angola</th>\n",
       "      <td>0</td>\n",
       "      <td>0</td>\n",
       "      <td>0</td>\n",
       "      <td>0</td>\n",
       "      <td>0</td>\n",
       "      <td>0</td>\n",
       "      <td>0</td>\n",
       "      <td>0</td>\n",
       "      <td>0</td>\n",
       "      <td>0</td>\n",
       "      <td>...</td>\n",
       "      <td>17240</td>\n",
       "      <td>17296</td>\n",
       "      <td>17371</td>\n",
       "      <td>17433</td>\n",
       "      <td>17553</td>\n",
       "      <td>17568</td>\n",
       "      <td>17608</td>\n",
       "      <td>17642</td>\n",
       "      <td>17684</td>\n",
       "      <td>17756</td>\n",
       "    </tr>\n",
       "  </tbody>\n",
       "</table>\n",
       "<p>5 rows × 350 columns</p>\n",
       "</div>"
      ],
      "text/plain": [
       "                1/22/20  1/23/20  1/24/20  1/25/20  1/26/20  1/27/20  1/28/20  \\\n",
       "Country/Region                                                                  \n",
       "Afghanistan           0        0        0        0        0        0        0   \n",
       "Albania               0        0        0        0        0        0        0   \n",
       "Algeria               0        0        0        0        0        0        0   \n",
       "Andorra               0        0        0        0        0        0        0   \n",
       "Angola                0        0        0        0        0        0        0   \n",
       "\n",
       "                1/29/20  1/30/20  1/31/20  ...  12/27/20  12/28/20  12/29/20  \\\n",
       "Country/Region                             ...                                 \n",
       "Afghanistan           0        0        0  ...     51039     51280     51350   \n",
       "Albania               0        0        0  ...     56254     56572     57146   \n",
       "Algeria               0        0        0  ...     98249     98631     98988   \n",
       "Andorra               0        0        0  ...      7821      7875      7919   \n",
       "Angola                0        0        0  ...     17240     17296     17371   \n",
       "\n",
       "                12/30/20  12/31/20  1/1/21  1/2/21  1/3/21  1/4/21  1/5/21  \n",
       "Country/Region                                                              \n",
       "Afghanistan        51405     51526   51526   51526   51526   53011   53105  \n",
       "Albania            57727     58316   58316   58991   59438   59623   60283  \n",
       "Algeria            99311     99610   99897  100159  100408  100645  100873  \n",
       "Andorra             7983      8049    8117    8166    8192    8249    8308  \n",
       "Angola             17433     17553   17568   17608   17642   17684   17756  \n",
       "\n",
       "[5 rows x 350 columns]"
      ]
     },
     "execution_count": 4,
     "metadata": {},
     "output_type": "execute_result"
    }
   ],
   "source": [
    "confirmed_df = confirmed_df.drop(columns=['Province/State', 'Lat', 'Long'])\n",
    "confirmed_agg = confirmed_df.groupby('Country/Region').sum()\n",
    "confirmed_agg.head()"
   ]
  },
  {
   "cell_type": "markdown",
   "metadata": {},
   "source": [
    "## Forecasting"
   ]
  },
  {
   "cell_type": "code",
   "execution_count": 5,
   "metadata": {},
   "outputs": [],
   "source": [
    "def get_data(country: str = None):\n",
    "    data_df = confirmed_agg.loc[country, :] if country else confirmed_agg.sum()\n",
    "    data_df.index = pd.to_datetime(data_df.index).to_period('D')\n",
    "    return data_df"
   ]
  },
  {
   "cell_type": "code",
   "execution_count": 6,
   "metadata": {},
   "outputs": [],
   "source": [
    "def train_test_split(data: pd.Series, train_ratio: float = 0.66):\n",
    "    assert 0. < train_ratio < 1., 'train_ratio must be in (0.0, 1.0)'\n",
    "    bound = int(len(data) * train_ratio)\n",
    "    train, test = data[:bound], data[bound:]\n",
    "    train.name = 'train'\n",
    "    test.name = 'test'\n",
    "    return train, test"
   ]
  },
  {
   "cell_type": "markdown",
   "metadata": {},
   "source": [
    "Here we define two metrics to evaluate our model predictions against actual values, namely:\n",
    "  * Mean absolute error (MAE)\n",
    "  * Mean absolute percentage error (MAPE)"
   ]
  },
  {
   "cell_type": "code",
   "execution_count": 7,
   "metadata": {},
   "outputs": [],
   "source": [
    "def MAE(y, y_hat):\n",
    "    return np.mean(np.abs(y - y_hat))\n",
    "\n",
    "def MAPE(y, y_hat, eps = 1e-10):\n",
    "    return np.mean(np.abs((y - y_hat)/(y + eps)))"
   ]
  },
  {
   "cell_type": "code",
   "execution_count": 8,
   "metadata": {
    "scrolled": false
   },
   "outputs": [
    {
     "data": {
      "application/vnd.jupyter.widget-view+json": {
       "model_id": "1805d53030a4467c8289c715177bf739",
       "version_major": 2,
       "version_minor": 0
      },
      "text/plain": [
       "interactive(children=(Dropdown(description='country', options=('World', 'Afghanistan', 'Albania', 'Algeria', '…"
      ]
     },
     "metadata": {},
     "output_type": "display_data"
    }
   ],
   "source": [
    "@widgets.interact(country=['World'] + confirmed_agg.index.values.tolist(),\n",
    "                  train_ratio=widgets.FloatSlider(min=0.1, max=0.9, value=0.8, step=0.1, continuous_update=False),\n",
    "                  p=widgets.BoundedIntText(min=0, max=confirmed_agg.shape[1], value=1, continuous_update=False),\n",
    "                  d=widgets.BoundedIntText(min=0, max=2, value=1, continuous_update=False),\n",
    "                  q=widgets.BoundedIntText(min=0, max=confirmed_agg.shape[1], value=1, continuous_update=False),\n",
    "                  forecast_days=widgets.BoundedIntText(min=0, max=365, value=30, continuous_update=False),\n",
    "                  model_details=False)\n",
    "def forecast(country, train_ratio, p, d, q, forecast_days, model_details):\n",
    "    data = get_data(None if country == 'World' else country)\n",
    "    train, test = train_test_split(data, train_ratio)\n",
    "    \n",
    "    model = ARIMA(train, order=(p,d,q)).fit()\n",
    "    if model_details:\n",
    "        autocorrelation_plot(data)\n",
    "        plt.show()\n",
    "        print(model.summary())\n",
    "    \n",
    "    forecast = model.predict(start=test.head(1).index[0], end=test.tail(1).index[0] + timedelta(days=forecast_days))\n",
    "    \n",
    "    print(f'test MAE: {MAE(test, forecast[:len(test)]):.3f}')\n",
    "    print(f'test MAPE: {MAPE(test, forecast[:len(test)]):.3f}')\n",
    "    \n",
    "    result = data.to_frame().join(test).join(forecast, how='outer')\n",
    "    result.columns = ['train', 'test', 'predicted']\n",
    "    result.plot()"
   ]
  },
  {
   "cell_type": "markdown",
   "metadata": {},
   "source": [
    "## Conclusion\n",
    "\n"
   ]
  }
 ],
 "metadata": {
  "kernelspec": {
   "display_name": "Python 3",
   "language": "python",
   "name": "python3"
  },
  "language_info": {
   "codemirror_mode": {
    "name": "ipython",
    "version": 3
   },
   "file_extension": ".py",
   "mimetype": "text/x-python",
   "name": "python",
   "nbconvert_exporter": "python",
   "pygments_lexer": "ipython3",
   "version": "3.9.1"
  },
  "widgets": {
   "application/vnd.jupyter.widget-state+json": {
    "state": {
     "02a4e327b5f246e493e1520ff5b51d4e": {
      "model_module": "@jupyter-widgets/controls",
      "model_module_version": "1.5.0",
      "model_name": "ProgressStyleModel",
      "state": {
       "description_width": ""
      }
     },
     "1068565e87bb4c2eab2ba5ac94bf2f94": {
      "model_module": "@jupyter-widgets/base",
      "model_module_version": "1.2.0",
      "model_name": "LayoutModel",
      "state": {}
     },
     "32b425d8dcd949fd849d5e317bd2cca4": {
      "model_module": "@jupyter-widgets/controls",
      "model_module_version": "1.5.0",
      "model_name": "HTMLModel",
      "state": {
       "layout": "IPY_MODEL_a9705082e0be4a51855fdd1bcb22601d",
       "style": "IPY_MODEL_b631978d74034786aa52d3fa42aaf35c"
      }
     },
     "38829c5e522e411084ef1172d350721f": {
      "model_module": "@jupyter-widgets/controls",
      "model_module_version": "1.5.0",
      "model_name": "ProgressStyleModel",
      "state": {
       "description_width": ""
      }
     },
     "4dc05a03254d419298ed5951d9ff412c": {
      "model_module": "@jupyter-widgets/base",
      "model_module_version": "1.2.0",
      "model_name": "LayoutModel",
      "state": {}
     },
     "5d88b7c47a94431bbb69ee708ad84661": {
      "model_module": "@jupyter-widgets/base",
      "model_module_version": "1.2.0",
      "model_name": "LayoutModel",
      "state": {}
     },
     "6a9cc28cd73445b8a427e8bc6c08d0d1": {
      "model_module": "@jupyter-widgets/controls",
      "model_module_version": "1.5.0",
      "model_name": "HTMLModel",
      "state": {
       "layout": "IPY_MODEL_fb067ecf898a47318a45aad23ff6f0cb",
       "style": "IPY_MODEL_b227fb81247a4fb18cc996b4d7affe27"
      }
     },
     "76f1a466cf7d44cfa024c3c0f7945077": {
      "model_module": "@jupyter-widgets/controls",
      "model_module_version": "1.5.0",
      "model_name": "FloatProgressModel",
      "state": {
       "bar_style": "success",
       "layout": "IPY_MODEL_b73577008e8740d89ef2cc922c1342ad",
       "max": 1,
       "style": "IPY_MODEL_02a4e327b5f246e493e1520ff5b51d4e",
       "value": 1
      }
     },
     "7a0ebe08068345579d5a6220245429b3": {
      "model_module": "@jupyter-widgets/base",
      "model_module_version": "1.2.0",
      "model_name": "LayoutModel",
      "state": {}
     },
     "7e367a4ff12c4db08323eccd86784533": {
      "model_module": "@jupyter-widgets/controls",
      "model_module_version": "1.5.0",
      "model_name": "HTMLModel",
      "state": {
       "layout": "IPY_MODEL_1068565e87bb4c2eab2ba5ac94bf2f94",
       "style": "IPY_MODEL_919cf72ecc4d405289d3ed95514bdae6",
       "value": "6it [00:00,  8.63it/s]"
      }
     },
     "830f1d89ceea49afb74125a6245d4b61": {
      "model_module": "@jupyter-widgets/controls",
      "model_module_version": "1.5.0",
      "model_name": "DescriptionStyleModel",
      "state": {
       "description_width": ""
      }
     },
     "919cf72ecc4d405289d3ed95514bdae6": {
      "model_module": "@jupyter-widgets/controls",
      "model_module_version": "1.5.0",
      "model_name": "DescriptionStyleModel",
      "state": {
       "description_width": ""
      }
     },
     "a2f567d140d44db89b44867d424a73d2": {
      "model_module": "@jupyter-widgets/controls",
      "model_module_version": "1.5.0",
      "model_name": "HTMLModel",
      "state": {
       "layout": "IPY_MODEL_7a0ebe08068345579d5a6220245429b3",
       "style": "IPY_MODEL_830f1d89ceea49afb74125a6245d4b61",
       "value": "6it [00:00, 10.73it/s]"
      }
     },
     "a9705082e0be4a51855fdd1bcb22601d": {
      "model_module": "@jupyter-widgets/base",
      "model_module_version": "1.2.0",
      "model_name": "LayoutModel",
      "state": {}
     },
     "b227fb81247a4fb18cc996b4d7affe27": {
      "model_module": "@jupyter-widgets/controls",
      "model_module_version": "1.5.0",
      "model_name": "DescriptionStyleModel",
      "state": {
       "description_width": ""
      }
     },
     "b45229c4a9d8482aaa33ead83ca810f2": {
      "model_module": "@jupyter-widgets/controls",
      "model_module_version": "1.5.0",
      "model_name": "HBoxModel",
      "state": {
       "children": [
        "IPY_MODEL_32b425d8dcd949fd849d5e317bd2cca4",
        "IPY_MODEL_d66b7fe10d88436091532f8e7e256dd7",
        "IPY_MODEL_a2f567d140d44db89b44867d424a73d2"
       ],
       "layout": "IPY_MODEL_5d88b7c47a94431bbb69ee708ad84661"
      }
     },
     "b631978d74034786aa52d3fa42aaf35c": {
      "model_module": "@jupyter-widgets/controls",
      "model_module_version": "1.5.0",
      "model_name": "DescriptionStyleModel",
      "state": {
       "description_width": ""
      }
     },
     "b73577008e8740d89ef2cc922c1342ad": {
      "model_module": "@jupyter-widgets/base",
      "model_module_version": "1.2.0",
      "model_name": "LayoutModel",
      "state": {
       "width": "20px"
      }
     },
     "c952db4121d84f9cbde3846a9aae60f6": {
      "model_module": "@jupyter-widgets/controls",
      "model_module_version": "1.5.0",
      "model_name": "HBoxModel",
      "state": {
       "children": [
        "IPY_MODEL_6a9cc28cd73445b8a427e8bc6c08d0d1",
        "IPY_MODEL_76f1a466cf7d44cfa024c3c0f7945077",
        "IPY_MODEL_7e367a4ff12c4db08323eccd86784533"
       ],
       "layout": "IPY_MODEL_4dc05a03254d419298ed5951d9ff412c"
      }
     },
     "d66b7fe10d88436091532f8e7e256dd7": {
      "model_module": "@jupyter-widgets/controls",
      "model_module_version": "1.5.0",
      "model_name": "FloatProgressModel",
      "state": {
       "bar_style": "success",
       "layout": "IPY_MODEL_df67749dccd6493aac4a60f23a6208f0",
       "max": 1,
       "style": "IPY_MODEL_38829c5e522e411084ef1172d350721f",
       "value": 1
      }
     },
     "df67749dccd6493aac4a60f23a6208f0": {
      "model_module": "@jupyter-widgets/base",
      "model_module_version": "1.2.0",
      "model_name": "LayoutModel",
      "state": {
       "width": "20px"
      }
     },
     "fb067ecf898a47318a45aad23ff6f0cb": {
      "model_module": "@jupyter-widgets/base",
      "model_module_version": "1.2.0",
      "model_name": "LayoutModel",
      "state": {}
     }
    },
    "version_major": 2,
    "version_minor": 0
   }
  }
 },
 "nbformat": 4,
 "nbformat_minor": 4
}
