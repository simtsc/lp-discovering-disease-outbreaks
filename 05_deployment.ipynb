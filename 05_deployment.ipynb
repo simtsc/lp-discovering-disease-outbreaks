{
 "cells": [
  {
   "cell_type": "markdown",
   "metadata": {},
   "source": [
    "# Time Series Forecasting"
   ]
  },
  {
   "cell_type": "code",
   "execution_count": null,
   "metadata": {},
   "outputs": [],
   "source": [
    "from datetime import timedelta\n",
    "from pathlib import Path\n",
    "import re\n",
    "import itertools\n",
    "import asyncio\n",
    "import warnings\n",
    "\n",
    "import matplotlib.pyplot as plt\n",
    "\n",
    "import ipywidgets as widgets\n",
    "import numpy as np\n",
    "import pandas as pd\n",
    "import plotly.express as px\n",
    "import folium\n",
    "from tqdm.notebook import tqdm\n",
    "\n",
    "from statsmodels.tsa.statespace.sarimax import SARIMAX\n",
    "import nest_asyncio\n",
    "nest_asyncio.apply()\n",
    "\n",
    "plt.rcParams[\"figure.figsize\"] = (20, 10)"
   ]
  },
  {
   "cell_type": "markdown",
   "metadata": {},
   "source": [
    "## Load all data"
   ]
  },
  {
   "cell_type": "code",
   "execution_count": null,
   "metadata": {},
   "outputs": [],
   "source": [
    "datasets = {f.name : pd.read_csv(f) for f in tqdm(Path('.').glob('*.csv'))}"
   ]
  },
  {
   "cell_type": "code",
   "execution_count": null,
   "metadata": {},
   "outputs": [],
   "source": [
    "datasets = {\n",
    "    k: df.rename(\n",
    "        mapper=lambda c: c if re.match(r'\\d{1,2}/\\d{1,2}/\\d{1,2}', c) else c.split('/')[0].lower().rstrip('_'),\n",
    "        axis='columns')\n",
    "    for (k, df) in datasets.items()\n",
    "}"
   ]
  },
  {
   "cell_type": "markdown",
   "metadata": {},
   "source": [
    "## Clean the dataframes"
   ]
  },
  {
   "cell_type": "markdown",
   "metadata": {},
   "source": [
    "### Drop unused columns"
   ]
  },
  {
   "cell_type": "code",
   "execution_count": null,
   "metadata": {},
   "outputs": [],
   "source": [
    "confirmed_df = datasets['time_series_covid19_confirmed_global.csv'].groupby('country').sum().reset_index()\n",
    "deaths_df = datasets['time_series_covid19_deaths_global.csv'].groupby('country').sum().reset_index()"
   ]
  },
  {
   "cell_type": "markdown",
   "metadata": {},
   "source": [
    "## Explore aggregated data"
   ]
  },
  {
   "cell_type": "code",
   "execution_count": null,
   "metadata": {},
   "outputs": [],
   "source": [
    "country_df = datasets['cases_country.csv']\n",
    "\n",
    "@widgets.interact(num_rows=widgets.IntSlider(min=1, max=len(country_df), continuous_update=False, description='N:'))\n",
    "def render_df(num_rows):\n",
    "    display(country_df.sort_values(by='confirmed', \n",
    "                                   ascending=False)\n",
    "                      .head(num_rows)\n",
    "                      .loc[:,['country_region', \n",
    "                              'confirmed', \n",
    "                              'deaths', \n",
    "                              'recovered', \n",
    "                              'active']]\n",
    "                      .style.background_gradient(cmap='Reds'))"
   ]
  },
  {
   "cell_type": "markdown",
   "metadata": {},
   "source": [
    "## Worst affected countries"
   ]
  },
  {
   "cell_type": "code",
   "execution_count": null,
   "metadata": {},
   "outputs": [],
   "source": [
    "@widgets.interact(num_rows=widgets.IntSlider(min=1, max=len(country_df), continuous_update=False, description='N:'))\n",
    "def render_df(num_rows):\n",
    "    fig = px.scatter(country_df.sort_values(by='confirmed', \n",
    "                                            ascending=False)\n",
    "                               .head(num_rows)\n",
    "                               .fillna(0.0), \n",
    "                     x='deaths', \n",
    "                     y='recovered', \n",
    "                     size='confirmed',\n",
    "                     color='country_region',\n",
    "                     hover_name='country_region')\n",
    "    fig.show()"
   ]
  },
  {
   "cell_type": "code",
   "execution_count": null,
   "metadata": {
    "scrolled": false
   },
   "outputs": [],
   "source": [
    "@widgets.interact(country=confirmed_df['country'].unique())\n",
    "def plot_daily_cases(country):\n",
    "    ts_confirmed = confirmed_df.set_index('country').iloc[:,3:].loc[country,:]\n",
    "    ts_deaths = deaths_df.set_index('country').iloc[:,3:].loc[country,:]\n",
    "    df = ts_confirmed.to_frame().join(ts_deaths, lsuffix='_c', rsuffix='_d').reset_index()\n",
    "    df.columns = ['date', 'confirmed', 'deaths']\n",
    "    df['date'] = pd.to_datetime(df['date'])\n",
    "    fig = px.line(df, x='date', y=df.columns, title=country)\n",
    "    fig.show()"
   ]
  },
  {
   "cell_type": "markdown",
   "metadata": {},
   "source": [
    "### Top 10 of worst-hit countries"
   ]
  },
  {
   "cell_type": "code",
   "execution_count": null,
   "metadata": {},
   "outputs": [],
   "source": [
    "def plot_top10(metric):\n",
    "    fig = px.bar(country_df.sort_values(by=metric, \n",
    "                                    ascending=False)\n",
    "                       .head(10),\n",
    "             x='country_region',\n",
    "             y=metric,\n",
    "             title=f'Top 10 ({metric})')\n",
    "    fig.show()"
   ]
  },
  {
   "cell_type": "code",
   "execution_count": null,
   "metadata": {},
   "outputs": [],
   "source": [
    "plot_top10('confirmed')"
   ]
  },
  {
   "cell_type": "code",
   "execution_count": null,
   "metadata": {},
   "outputs": [],
   "source": [
    "plot_top10('deaths')"
   ]
  },
  {
   "cell_type": "code",
   "execution_count": null,
   "metadata": {},
   "outputs": [],
   "source": [
    "plot_top10('active')"
   ]
  },
  {
   "cell_type": "code",
   "execution_count": null,
   "metadata": {},
   "outputs": [],
   "source": [
    "plot_top10('recovered')"
   ]
  },
  {
   "cell_type": "code",
   "execution_count": null,
   "metadata": {},
   "outputs": [],
   "source": [
    "plot_top10('mortality_rate')"
   ]
  },
  {
   "cell_type": "markdown",
   "metadata": {},
   "source": [
    "### COVID-19 spread on global map"
   ]
  },
  {
   "cell_type": "code",
   "execution_count": null,
   "metadata": {},
   "outputs": [],
   "source": [
    "scale_f = lambda x: 10 / country_df.confirmed.max() * x + 5\n",
    "\n",
    "m = folium.Map(tiles=\"Stamen Toner\", zoom_start=13)\n",
    "for i,r in country_df.dropna(subset=['lat', 'long']).iterrows():\n",
    "    folium.CircleMarker(\n",
    "        location=[r.lat, r.long],\n",
    "        radius=scale_f(r.confirmed),\n",
    "        popup=f'''\n",
    "               <table>\n",
    "                 <tr>\n",
    "                   <th colspan=\"2\">{r.country_region}</th>\n",
    "                 </tr>\n",
    "                 <tr>\n",
    "                   <td>confirmed:</td>\n",
    "                   <td>{int(r.confirmed)}</td>\n",
    "                 </tr>\n",
    "                 <tr>\n",
    "                   <td>deaths:</td>\n",
    "                   <td>{int(r.deaths)}</td>\n",
    "                 </tr>\n",
    "                 <tr>\n",
    "                   <td>death rate:</td>\n",
    "                   <td>{r.mortality_rate:.3f}</td>\n",
    "                 </tr>\n",
    "               </table>\n",
    "        ''',\n",
    "        color='crimson',\n",
    "        fill=True\n",
    "    ).add_to(m)\n",
    "m"
   ]
  },
  {
   "cell_type": "markdown",
   "metadata": {},
   "source": [
    "## Forecasting"
   ]
  },
  {
   "cell_type": "code",
   "execution_count": null,
   "metadata": {},
   "outputs": [],
   "source": [
    "confirmed_agg = confirmed_df.drop(columns=['lat', 'long']).set_index('country')"
   ]
  },
  {
   "cell_type": "code",
   "execution_count": null,
   "metadata": {},
   "outputs": [],
   "source": [
    "def get_data(country: str = None):\n",
    "    data_df = confirmed_agg.loc[country, :] if country else confirmed_agg.sum()\n",
    "    data_df.index = pd.to_datetime(data_df.index).to_period('D')\n",
    "    return data_df"
   ]
  },
  {
   "cell_type": "code",
   "execution_count": null,
   "metadata": {},
   "outputs": [],
   "source": [
    "def train_test_split(data: pd.Series, train_ratio: float = 0.66):\n",
    "    assert 0. < train_ratio < 1., 'train_ratio must be in (0.0, 1.0)'\n",
    "    bound = int(len(data) * train_ratio)\n",
    "    train, test = data[:bound], data[bound:]\n",
    "    train.name = 'train'\n",
    "    test.name = 'test'\n",
    "    return train, test"
   ]
  },
  {
   "cell_type": "code",
   "execution_count": null,
   "metadata": {},
   "outputs": [],
   "source": [
    "def MAPE(y, y_hat, eps = 1e-10):\n",
    "    return np.mean(np.abs((y - y_hat)/(y + eps)))"
   ]
  },
  {
   "cell_type": "code",
   "execution_count": null,
   "metadata": {},
   "outputs": [],
   "source": [
    "progress = widgets.IntProgress(min=0)\n",
    "display(progress)\n",
    "\n",
    "@widgets.interact(country=['World'] + confirmed_agg.index.values.tolist())\n",
    "def autoarima(country):\n",
    "    p = d = q = range(3)\n",
    "    \n",
    "    async def fit_arima(train, order):\n",
    "        with warnings.catch_warnings():\n",
    "            warnings.filterwarnings(\"ignore\")\n",
    "            model = SARIMAX(train, order=order).fit()\n",
    "            progress.value += 1\n",
    "            return (model.aic, order)\n",
    "\n",
    "    data = get_data(None if country == 'World' else country)\n",
    "    train, test = train_test_split(data, 0.95)\n",
    "\n",
    "    loop = asyncio.get_event_loop()\n",
    "    tasks = [fit_arima(train, order) for order in itertools.product(p,d,q)]\n",
    "    futures = asyncio.gather(*tasks, return_exceptions=True)\n",
    "\n",
    "    progress.value = 0\n",
    "    progress.max = len(tasks)\n",
    "    loop.run_until_complete(futures)\n",
    "\n",
    "    best_result = sorted([result for result in futures.result() if not isinstance(result, Exception)])[0]\n",
    "\n",
    "    model = SARIMAX(train, order=best_result[1]).fit()\n",
    "    \n",
    "    forecast = model.predict(start=test.head(1).index[0], end=test.tail(1).index[0] + timedelta(days=30))\n",
    "    print(f'test MAPE: {MAPE(test, forecast[:len(test)]):.3f}')\n",
    "    \n",
    "    result = data.to_frame().join(test).join(forecast, how='outer')\n",
    "    result.columns = ['train', 'test', 'predicted']\n",
    "    result.plot()"
   ]
  }
 ],
 "metadata": {
  "kernelspec": {
   "display_name": "Python 3",
   "language": "python",
   "name": "python3"
  },
  "language_info": {
   "codemirror_mode": {
    "name": "ipython",
    "version": 3
   },
   "file_extension": ".py",
   "mimetype": "text/x-python",
   "name": "python",
   "nbconvert_exporter": "python",
   "pygments_lexer": "ipython3",
   "version": "3.9.1"
  },
  "widgets": {
   "application/vnd.jupyter.widget-state+json": {
    "state": {
     "02a4e327b5f246e493e1520ff5b51d4e": {
      "model_module": "@jupyter-widgets/controls",
      "model_module_version": "1.5.0",
      "model_name": "ProgressStyleModel",
      "state": {
       "description_width": ""
      }
     },
     "1068565e87bb4c2eab2ba5ac94bf2f94": {
      "model_module": "@jupyter-widgets/base",
      "model_module_version": "1.2.0",
      "model_name": "LayoutModel",
      "state": {}
     },
     "32b425d8dcd949fd849d5e317bd2cca4": {
      "model_module": "@jupyter-widgets/controls",
      "model_module_version": "1.5.0",
      "model_name": "HTMLModel",
      "state": {
       "layout": "IPY_MODEL_a9705082e0be4a51855fdd1bcb22601d",
       "style": "IPY_MODEL_b631978d74034786aa52d3fa42aaf35c"
      }
     },
     "38829c5e522e411084ef1172d350721f": {
      "model_module": "@jupyter-widgets/controls",
      "model_module_version": "1.5.0",
      "model_name": "ProgressStyleModel",
      "state": {
       "description_width": ""
      }
     },
     "4dc05a03254d419298ed5951d9ff412c": {
      "model_module": "@jupyter-widgets/base",
      "model_module_version": "1.2.0",
      "model_name": "LayoutModel",
      "state": {}
     },
     "5d88b7c47a94431bbb69ee708ad84661": {
      "model_module": "@jupyter-widgets/base",
      "model_module_version": "1.2.0",
      "model_name": "LayoutModel",
      "state": {}
     },
     "6a9cc28cd73445b8a427e8bc6c08d0d1": {
      "model_module": "@jupyter-widgets/controls",
      "model_module_version": "1.5.0",
      "model_name": "HTMLModel",
      "state": {
       "layout": "IPY_MODEL_fb067ecf898a47318a45aad23ff6f0cb",
       "style": "IPY_MODEL_b227fb81247a4fb18cc996b4d7affe27"
      }
     },
     "76f1a466cf7d44cfa024c3c0f7945077": {
      "model_module": "@jupyter-widgets/controls",
      "model_module_version": "1.5.0",
      "model_name": "FloatProgressModel",
      "state": {
       "bar_style": "success",
       "layout": "IPY_MODEL_b73577008e8740d89ef2cc922c1342ad",
       "max": 1,
       "style": "IPY_MODEL_02a4e327b5f246e493e1520ff5b51d4e",
       "value": 1
      }
     },
     "7a0ebe08068345579d5a6220245429b3": {
      "model_module": "@jupyter-widgets/base",
      "model_module_version": "1.2.0",
      "model_name": "LayoutModel",
      "state": {}
     },
     "7e367a4ff12c4db08323eccd86784533": {
      "model_module": "@jupyter-widgets/controls",
      "model_module_version": "1.5.0",
      "model_name": "HTMLModel",
      "state": {
       "layout": "IPY_MODEL_1068565e87bb4c2eab2ba5ac94bf2f94",
       "style": "IPY_MODEL_919cf72ecc4d405289d3ed95514bdae6",
       "value": "6it [00:00,  8.63it/s]"
      }
     },
     "830f1d89ceea49afb74125a6245d4b61": {
      "model_module": "@jupyter-widgets/controls",
      "model_module_version": "1.5.0",
      "model_name": "DescriptionStyleModel",
      "state": {
       "description_width": ""
      }
     },
     "919cf72ecc4d405289d3ed95514bdae6": {
      "model_module": "@jupyter-widgets/controls",
      "model_module_version": "1.5.0",
      "model_name": "DescriptionStyleModel",
      "state": {
       "description_width": ""
      }
     },
     "a2f567d140d44db89b44867d424a73d2": {
      "model_module": "@jupyter-widgets/controls",
      "model_module_version": "1.5.0",
      "model_name": "HTMLModel",
      "state": {
       "layout": "IPY_MODEL_7a0ebe08068345579d5a6220245429b3",
       "style": "IPY_MODEL_830f1d89ceea49afb74125a6245d4b61",
       "value": "6it [00:00, 10.73it/s]"
      }
     },
     "a9705082e0be4a51855fdd1bcb22601d": {
      "model_module": "@jupyter-widgets/base",
      "model_module_version": "1.2.0",
      "model_name": "LayoutModel",
      "state": {}
     },
     "b227fb81247a4fb18cc996b4d7affe27": {
      "model_module": "@jupyter-widgets/controls",
      "model_module_version": "1.5.0",
      "model_name": "DescriptionStyleModel",
      "state": {
       "description_width": ""
      }
     },
     "b45229c4a9d8482aaa33ead83ca810f2": {
      "model_module": "@jupyter-widgets/controls",
      "model_module_version": "1.5.0",
      "model_name": "HBoxModel",
      "state": {
       "children": [
        "IPY_MODEL_32b425d8dcd949fd849d5e317bd2cca4",
        "IPY_MODEL_d66b7fe10d88436091532f8e7e256dd7",
        "IPY_MODEL_a2f567d140d44db89b44867d424a73d2"
       ],
       "layout": "IPY_MODEL_5d88b7c47a94431bbb69ee708ad84661"
      }
     },
     "b631978d74034786aa52d3fa42aaf35c": {
      "model_module": "@jupyter-widgets/controls",
      "model_module_version": "1.5.0",
      "model_name": "DescriptionStyleModel",
      "state": {
       "description_width": ""
      }
     },
     "b73577008e8740d89ef2cc922c1342ad": {
      "model_module": "@jupyter-widgets/base",
      "model_module_version": "1.2.0",
      "model_name": "LayoutModel",
      "state": {
       "width": "20px"
      }
     },
     "c952db4121d84f9cbde3846a9aae60f6": {
      "model_module": "@jupyter-widgets/controls",
      "model_module_version": "1.5.0",
      "model_name": "HBoxModel",
      "state": {
       "children": [
        "IPY_MODEL_6a9cc28cd73445b8a427e8bc6c08d0d1",
        "IPY_MODEL_76f1a466cf7d44cfa024c3c0f7945077",
        "IPY_MODEL_7e367a4ff12c4db08323eccd86784533"
       ],
       "layout": "IPY_MODEL_4dc05a03254d419298ed5951d9ff412c"
      }
     },
     "d66b7fe10d88436091532f8e7e256dd7": {
      "model_module": "@jupyter-widgets/controls",
      "model_module_version": "1.5.0",
      "model_name": "FloatProgressModel",
      "state": {
       "bar_style": "success",
       "layout": "IPY_MODEL_df67749dccd6493aac4a60f23a6208f0",
       "max": 1,
       "style": "IPY_MODEL_38829c5e522e411084ef1172d350721f",
       "value": 1
      }
     },
     "df67749dccd6493aac4a60f23a6208f0": {
      "model_module": "@jupyter-widgets/base",
      "model_module_version": "1.2.0",
      "model_name": "LayoutModel",
      "state": {
       "width": "20px"
      }
     },
     "fb067ecf898a47318a45aad23ff6f0cb": {
      "model_module": "@jupyter-widgets/base",
      "model_module_version": "1.2.0",
      "model_name": "LayoutModel",
      "state": {}
     }
    },
    "version_major": 2,
    "version_minor": 0
   }
  }
 },
 "nbformat": 4,
 "nbformat_minor": 4
}
